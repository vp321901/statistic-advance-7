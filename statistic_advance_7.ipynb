{
  "nbformat": 4,
  "nbformat_minor": 0,
  "metadata": {
    "colab": {
      "provenance": []
    },
    "kernelspec": {
      "name": "python3",
      "display_name": "Python 3"
    },
    "language_info": {
      "name": "python"
    }
  },
  "cells": [
    {
      "cell_type": "code",
      "execution_count": 1,
      "metadata": {
        "colab": {
          "base_uri": "https://localhost:8080/"
        },
        "id": "JzeTMgE7IfsH",
        "outputId": "479c1f5b-7a18-4d2b-ea53-1074837333fc"
      },
      "outputs": [
        {
          "output_type": "stream",
          "name": "stdout",
          "text": [
            "F-value: 2.1764705882352944, p-value: 0.2349235380785449\n"
          ]
        }
      ],
      "source": [
        "#answer:-1\n",
        "import numpy as np\n",
        "import scipy.stats as stats\n",
        "\n",
        "def calculate_f_value(data1, data2):\n",
        "    var1 = np.var(data1, ddof=1)  # Sample variance of data1\n",
        "    var2 = np.var(data2, ddof=1)  # Sample variance of data2\n",
        "    f_value = var1 / var2  # Calculate F-value\n",
        "    dfn = len(data1) - 1  # Degrees of freedom for the numerator\n",
        "    dfd = len(data2) - 1  # Degrees of freedom for the denominator\n",
        "    p_value = stats.f.sf(f_value, dfn, dfd)  # Calculate p-value\n",
        "    return f_value, p_value\n",
        "\n",
        "# Example usage\n",
        "data1 = [12, 15, 14, 10, 13]\n",
        "data2 = [10, 12, 11, 9, 12]\n",
        "f_value, p_value = calculate_f_value(data1, data2)\n",
        "print(f\"F-value: {f_value}, p-value: {p_value}\")\n"
      ]
    },
    {
      "cell_type": "code",
      "source": [
        "#answer:2\n",
        "def critical_f_value(alpha, dfn, dfd):\n",
        "    critical_value = stats.f.ppf(1 - alpha/2, dfn, dfd)\n",
        "    return critical_value\n",
        "\n",
        "# Example usage\n",
        "alpha = 0.05\n",
        "dfn = 5  # degrees of freedom numerator\n",
        "dfd = 10  # degrees of freedom denominator\n",
        "critical_value = critical_f_value(alpha, dfn, dfd)\n",
        "print(f\"Critical F-value: {critical_value}\")\n"
      ],
      "metadata": {
        "colab": {
          "base_uri": "https://localhost:8080/"
        },
        "id": "t4d-oFtDIuft",
        "outputId": "d16a34d1-c47e-41a0-a8f2-a34a05ce8865"
      },
      "execution_count": 2,
      "outputs": [
        {
          "output_type": "stream",
          "name": "stdout",
          "text": [
            "Critical F-value: 4.236085668188633\n"
          ]
        }
      ]
    },
    {
      "cell_type": "code",
      "source": [
        "#answer:-3\n",
        "np.random.seed(42)  # For reproducibility\n",
        "\n",
        "# Generate random samples\n",
        "sample1 = np.random.normal(loc=10, scale=np.sqrt(10), size=30)  # Mean 10, variance 10\n",
        "sample2 = np.random.normal(loc=12, scale=np.sqrt(15), size=30)  # Mean 12, variance 15\n",
        "\n",
        "f_value, p_value = calculate_f_value(sample1, sample2)\n",
        "dfn = len(sample1) - 1\n",
        "dfd = len(sample2) - 1\n",
        "\n",
        "print(f\"F-value: {f_value}, Degrees of freedom (num): {dfn}, Degrees of freedom (den): {dfd}, p-value: {p_value}\")\n"
      ],
      "metadata": {
        "colab": {
          "base_uri": "https://localhost:8080/"
        },
        "id": "VWPb9HH3I8Oy",
        "outputId": "df2cad87-b65c-4842-b7e3-8b0b2c9622d3"
      },
      "execution_count": 3,
      "outputs": [
        {
          "output_type": "stream",
          "name": "stdout",
          "text": [
            "F-value: 0.6228812519994186, Degrees of freedom (num): 29, Degrees of freedom (den): 29, p-value: 0.895795399351694\n"
          ]
        }
      ]
    },
    {
      "cell_type": "code",
      "source": [
        "#answer:-4\n",
        "# Known variances\n",
        "var1 = 10\n",
        "var2 = 15\n",
        "n1 = 12  # Sample size for population 1\n",
        "n2 = 12  # Sample size for population 2\n",
        "\n",
        "# Calculate the F-value\n",
        "f_value = var1 / var2\n",
        "dfn = n1 - 1\n",
        "dfd = n2 - 1\n",
        "\n",
        "# Calculate the p-value\n",
        "p_value = stats.f.sf(f_value, dfn, dfd)\n",
        "\n",
        "# Determine if significant\n",
        "alpha = 0.05\n",
        "critical_value = critical_f_value(alpha, dfn, dfd)\n",
        "is_significant = p_value < alpha\n",
        "\n",
        "print(f\"F-value: {f_value}, p-value: {p_value}, Significant: {is_significant}\")\n"
      ],
      "metadata": {
        "colab": {
          "base_uri": "https://localhost:8080/"
        },
        "id": "T_U89j1dJEvr",
        "outputId": "de113f26-ee98-4f81-830b-c1e7a6c333d9"
      },
      "execution_count": 4,
      "outputs": [
        {
          "output_type": "stream",
          "name": "stdout",
          "text": [
            "F-value: 0.6666666666666666, p-value: 0.7438051006321003, Significant: False\n"
          ]
        }
      ]
    },
    {
      "cell_type": "code",
      "source": [
        "#answer:-5\n",
        "# Given values\n",
        "claimed_variance = 0.005\n",
        "sample_variance = 0.006\n",
        "n = 25  # Sample size\n",
        "\n",
        "# Calculate the F-value\n",
        "f_value = sample_variance / claimed_variance\n",
        "dfn = n - 1  # Degrees of freedom for the numerator\n",
        "dfd = n - 1  # Degrees of freedom for the denominator (same for claimed variance)\n",
        "\n",
        "# Calculate the p-value\n",
        "p_value = stats.f.sf(f_value, dfn, dfd)\n",
        "\n",
        "# Determine if significant\n",
        "alpha = 0.01\n",
        "is_significant = p_value < alpha\n",
        "\n",
        "print(f\"F-value: {f_value}, p-value: {p_value}, Significant: {is_significant}\")\n"
      ],
      "metadata": {
        "colab": {
          "base_uri": "https://localhost:8080/"
        },
        "id": "CmUwt2ctJXMe",
        "outputId": "d5c18f43-43fe-417c-82eb-ced0075bb4be"
      },
      "execution_count": 5,
      "outputs": [
        {
          "output_type": "stream",
          "name": "stdout",
          "text": [
            "F-value: 1.2, p-value: 0.32936546828172447, Significant: False\n"
          ]
        }
      ]
    },
    {
      "cell_type": "code",
      "source": [
        "#answer:-6\n",
        "\n",
        "def f_distribution_mean_variance(dfn, dfd):\n",
        "    if dfd > 2:\n",
        "        mean = dfd / (dfd - 2)\n",
        "        variance = (2 * (dfd ** 2) * (dfn + dfn - 2)) / (dfn * (dfd - 2) ** 2 * (dfd - 4))\n",
        "        return mean, variance\n",
        "    else:\n",
        "        return None, None  # Variance is undefined for dfd <= 2\n",
        "\n",
        "# Example usage\n",
        "dfn = 5\n",
        "dfd = 10\n",
        "mean, variance = f_distribution_mean_variance(dfn, dfd)\n",
        "print(f\"Mean: {mean}, Variance: {variance}\")\n"
      ],
      "metadata": {
        "colab": {
          "base_uri": "https://localhost:8080/"
        },
        "id": "TGKbZA2mJeU7",
        "outputId": "1cbdb15c-ad5d-46d9-bc2b-921699368679"
      },
      "execution_count": 6,
      "outputs": [
        {
          "output_type": "stream",
          "name": "stdout",
          "text": [
            "Mean: 1.25, Variance: 0.8333333333333334\n"
          ]
        }
      ]
    },
    {
      "cell_type": "code",
      "source": [
        "#answer:-7\n",
        "# Sample variances and sizes\n",
        "sample_var1 = 25\n",
        "sample_var2 = 20\n",
        "n1 = 10\n",
        "n2 = 15\n",
        "\n",
        "# Calculate the F-value\n",
        "f_value = sample_var1 / sample_var2\n",
        "dfn = n1 - 1\n",
        "dfd = n2 - 1\n",
        "\n",
        "# Calculate the p-value\n",
        "p_value = stats.f.sf(f_value, dfn, dfd)\n",
        "\n",
        "# Determine if significant\n",
        "alpha = 0.10\n",
        "is_significant = p_value < alpha\n",
        "\n",
        "print(f\"F-value: {f_value}, p-value: {p_value}, Significant: {is_significant}\")\n"
      ],
      "metadata": {
        "colab": {
          "base_uri": "https://localhost:8080/"
        },
        "id": "X-nGY8eKJkSy",
        "outputId": "6f2523fd-bd6f-4bd7-fcbf-3c6b1cf7b468"
      },
      "execution_count": 7,
      "outputs": [
        {
          "output_type": "stream",
          "name": "stdout",
          "text": [
            "F-value: 1.25, p-value: 0.34160971912929744, Significant: False\n"
          ]
        }
      ]
    },
    {
      "cell_type": "code",
      "source": [
        "#answer:-8\n",
        "# Waiting times\n",
        "restaurant_a = [24, 25, 28, 23, 22, 20, 27]\n",
        "restaurant_b = [31, 33, 35, 30, 32, 36]\n",
        "\n",
        "f_value, p_value = calculate_f_value(restaurant_a, restaurant_b)\n",
        "dfn = len(restaurant_a) - 1\n",
        "dfd = len(restaurant_b) - 1\n",
        "\n",
        "# Determine if significant\n",
        "alpha = 0.05\n",
        "is_significant = p_value < alpha\n",
        "\n",
        "print(f\"F-value: {f_value}, p-value: {p_value}, Significant: {is_significant}\")\n"
      ],
      "metadata": {
        "colab": {
          "base_uri": "https://localhost:8080/"
        },
        "id": "w80VwN_UJqip",
        "outputId": "4592e115-095f-47ed-d3ec-6a2f0a13a03c"
      },
      "execution_count": 8,
      "outputs": [
        {
          "output_type": "stream",
          "name": "stdout",
          "text": [
            "F-value: 1.4551907719609583, p-value: 0.34874078739687414, Significant: False\n"
          ]
        }
      ]
    },
    {
      "cell_type": "code",
      "source": [
        "#answer:-9\n",
        "\n",
        "# Test scores\n",
        "group_a = [80, 85, 90, 92, 87, 83]\n",
        "group_b = [75, 78, 82, 79, 81, 84]\n",
        "\n",
        "f_value, p_value = calculate_f_value(group_a, group_b)\n",
        "dfn = len(group_a) - 1\n",
        "dfd = len(group_b) - 1\n",
        "\n",
        "# Determine if significant\n",
        "alpha = 0.01\n",
        "is_significant = p_value < alpha\n",
        "\n",
        "print(f\"F-value: {f_value}, p-value: {p_value}, Significant: {is_significant}\")\n"
      ],
      "metadata": {
        "colab": {
          "base_uri": "https://localhost:8080/"
        },
        "id": "DSN1a06QJuoQ",
        "outputId": "0961d55f-8fe9-4bc5-b261-2770d6ae3d26"
      },
      "execution_count": 9,
      "outputs": [
        {
          "output_type": "stream",
          "name": "stdout",
          "text": [
            "F-value: 1.9442622950819677, p-value: 0.2415521774535344, Significant: False\n"
          ]
        }
      ]
    },
    {
      "cell_type": "code",
      "source": [],
      "metadata": {
        "id": "H4Y_aOz-J0vs"
      },
      "execution_count": null,
      "outputs": []
    }
  ]
}